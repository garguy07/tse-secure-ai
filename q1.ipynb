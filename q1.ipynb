{
 "cells": [
  {
   "cell_type": "code",
   "execution_count": 1,
   "metadata": {
    "execution": {
     "iopub.execute_input": "2025-09-28T13:11:11.676938Z",
     "iopub.status.busy": "2025-09-28T13:11:11.676521Z",
     "iopub.status.idle": "2025-09-28T13:11:11.681166Z",
     "shell.execute_reply": "2025-09-28T13:11:11.680530Z",
     "shell.execute_reply.started": "2025-09-28T13:11:11.676904Z"
    },
    "trusted": true
   },
   "outputs": [],
   "source": [
    "import os\n",
    "import numpy as np\n",
    "import torch\n",
    "import torch.nn as nn\n",
    "import torch.optim as optim\n",
    "from torch.utils.data import DataLoader, TensorDataset\n",
    "import matplotlib.pyplot as plt\n",
    "from tqdm import tqdm\n",
    "import seaborn as sns\n",
    "from sklearn.metrics import confusion_matrix, classification_report\n",
    "import random"
   ]
  },
  {
   "cell_type": "code",
   "execution_count": 2,
   "metadata": {
    "execution": {
     "iopub.execute_input": "2025-09-28T13:11:11.682528Z",
     "iopub.status.busy": "2025-09-28T13:11:11.682265Z",
     "iopub.status.idle": "2025-09-28T13:11:11.693036Z",
     "shell.execute_reply": "2025-09-28T13:11:11.692384Z",
     "shell.execute_reply.started": "2025-09-28T13:11:11.682512Z"
    },
    "trusted": true
   },
   "outputs": [
    {
     "name": "stdout",
     "output_type": "stream",
     "text": [
      "Using device: cpu\n"
     ]
    }
   ],
   "source": [
    "# Check if GPU is available\n",
    "device = torch.device('cuda' if torch.cuda.is_available() else 'cpu')\n",
    "print(f'Using device: {device}')"
   ]
  },
  {
   "cell_type": "code",
   "execution_count": 3,
   "metadata": {
    "execution": {
     "iopub.execute_input": "2025-09-28T13:11:11.694125Z",
     "iopub.status.busy": "2025-09-28T13:11:11.693879Z",
     "iopub.status.idle": "2025-09-28T13:11:11.703553Z",
     "shell.execute_reply": "2025-09-28T13:11:11.702777Z",
     "shell.execute_reply.started": "2025-09-28T13:11:11.694100Z"
    },
    "trusted": true
   },
   "outputs": [],
   "source": [
    "def read_images(file_path):\n",
    "    \"\"\"Read MNIST images from IDX file format\"\"\"\n",
    "    with open(file_path, 'rb') as f:\n",
    "        magic, num, rows, cols = np.frombuffer(f.read(16), dtype='>i4')\n",
    "        images = np.frombuffer(f.read(), dtype=np.uint8).reshape(num, 1, rows, cols)\n",
    "    return images"
   ]
  },
  {
   "cell_type": "code",
   "execution_count": 4,
   "metadata": {
    "execution": {
     "iopub.execute_input": "2025-09-28T13:11:11.704461Z",
     "iopub.status.busy": "2025-09-28T13:11:11.704285Z",
     "iopub.status.idle": "2025-09-28T13:11:11.713928Z",
     "shell.execute_reply": "2025-09-28T13:11:11.713293Z",
     "shell.execute_reply.started": "2025-09-28T13:11:11.704438Z"
    },
    "trusted": true
   },
   "outputs": [],
   "source": [
    "def read_labels(file_path):\n",
    "    \"\"\"Read MNIST labels from IDX file format\"\"\"\n",
    "    with open(file_path, 'rb') as f:\n",
    "        magic, num = np.frombuffer(f.read(8), dtype='>i4')\n",
    "        labels = np.frombuffer(f.read(), dtype=np.uint8)\n",
    "    return labels"
   ]
  },
  {
   "cell_type": "code",
   "execution_count": 5,
   "metadata": {
    "execution": {
     "iopub.execute_input": "2025-09-28T13:11:11.715543Z",
     "iopub.status.busy": "2025-09-28T13:11:11.715350Z",
     "iopub.status.idle": "2025-09-28T13:11:11.725156Z",
     "shell.execute_reply": "2025-09-28T13:11:11.724441Z",
     "shell.execute_reply.started": "2025-09-28T13:11:11.715528Z"
    },
    "trusted": true
   },
   "outputs": [],
   "source": [
    "def load_mnist_data(data_paths):\n",
    "    \"\"\"Load MNIST dataset from file paths\"\"\"\n",
    "    train_images = read_images(data_paths['train_images'])\n",
    "    train_labels = read_labels(data_paths['train_labels'])\n",
    "    test_images = read_images(data_paths['test_images'])\n",
    "    test_labels = read_labels(data_paths['test_labels'])\n",
    "    \n",
    "    print(f\"Training samples: {len(train_images)}\")\n",
    "    print(f\"Test samples: {len(test_images)}\")\n",
    "    \n",
    "    return train_images, train_labels, test_images, test_labels"
   ]
  },
  {
   "cell_type": "code",
   "execution_count": 6,
   "metadata": {
    "execution": {
     "iopub.execute_input": "2025-09-28T13:11:11.726244Z",
     "iopub.status.busy": "2025-09-28T13:11:11.725977Z",
     "iopub.status.idle": "2025-09-28T13:11:11.736820Z",
     "shell.execute_reply": "2025-09-28T13:11:11.736188Z",
     "shell.execute_reply.started": "2025-09-28T13:11:11.726217Z"
    },
    "trusted": true
   },
   "outputs": [],
   "source": [
    "def preprocess_data(train_images, train_labels, test_images, test_labels, batch_size=64):\n",
    "    \"\"\"Create PyTorch DataLoaders from numpy arrays\"\"\"\n",
    "    # Normalize pixel values to [0, 1] range\n",
    "    train_dataset = TensorDataset(\n",
    "        torch.tensor(train_images, dtype=torch.float32) / 255.0,\n",
    "        torch.tensor(train_labels, dtype=torch.long)\n",
    "    )\n",
    "    test_dataset = TensorDataset(\n",
    "        torch.tensor(test_images, dtype=torch.float32) / 255.0,\n",
    "        torch.tensor(test_labels, dtype=torch.long)\n",
    "    )\n",
    "    \n",
    "    train_loader = DataLoader(train_dataset, batch_size=batch_size, shuffle=True)\n",
    "    test_loader = DataLoader(test_dataset, batch_size=1000, shuffle=False)\n",
    "    \n",
    "    return train_loader, test_loader"
   ]
  },
  {
   "cell_type": "code",
   "execution_count": 7,
   "metadata": {
    "execution": {
     "iopub.execute_input": "2025-09-28T13:11:11.737751Z",
     "iopub.status.busy": "2025-09-28T13:11:11.737510Z",
     "iopub.status.idle": "2025-09-28T13:11:11.746943Z",
     "shell.execute_reply": "2025-09-28T13:11:11.746235Z",
     "shell.execute_reply.started": "2025-09-28T13:11:11.737710Z"
    },
    "trusted": true
   },
   "outputs": [],
   "source": [
    "class SimpleCNN(nn.Module):\n",
    "    def __init__(self):\n",
    "        super(SimpleCNN, self).__init__()\n",
    "        self.conv1 = nn.Conv2d(1, 10, kernel_size=5)\n",
    "        self.pool = nn.MaxPool2d(2)\n",
    "        self.conv2 = nn.Conv2d(10, 20, kernel_size=5)\n",
    "        \n",
    "        self.fc1 = nn.Linear(320, 50)\n",
    "        self.fc2 = nn.Linear(50, 10)\n",
    "\n",
    "    def forward(self, x):\n",
    "        x = self.pool(torch.relu(self.conv1(x)))\n",
    "        x = self.pool(torch.relu(self.conv2(x)))\n",
    "        x = x.view(-1, 320)\n",
    "        x = torch.relu(self.fc1(x))\n",
    "        x = self.fc2(x)\n",
    "        return x"
   ]
  },
  {
   "cell_type": "code",
   "execution_count": 8,
   "metadata": {
    "execution": {
     "iopub.execute_input": "2025-09-28T13:11:11.747799Z",
     "iopub.status.busy": "2025-09-28T13:11:11.747574Z",
     "iopub.status.idle": "2025-09-28T13:11:11.754788Z",
     "shell.execute_reply": "2025-09-28T13:11:11.754056Z",
     "shell.execute_reply.started": "2025-09-28T13:11:11.747782Z"
    },
    "trusted": true
   },
   "outputs": [],
   "source": [
    "def train_model(model, train_loader, test_loader, device, learning_rate=0.001, epochs=5):\n",
    "    \"\"\"Train the CNN model with one progress bar per epoch\"\"\"\n",
    "    optimizer = optim.Adam(model.parameters(), lr=learning_rate)\n",
    "    criterion = nn.CrossEntropyLoss()\n",
    "    \n",
    "    train_losses = []\n",
    "    test_accuracies = []\n",
    "    \n",
    "    for epoch in range(1, epochs + 1):\n",
    "        model.train()\n",
    "        epoch_loss = 0\n",
    "        num_batches = 0\n",
    "        \n",
    "        # Progress bar for this epoch\n",
    "        batch_pbar = tqdm(train_loader, desc=f\"Epoch {epoch}/{epochs}\", unit=\"batch\")\n",
    "        \n",
    "        for data, target in batch_pbar:\n",
    "            data, target = data.to(device), target.to(device)\n",
    "            \n",
    "            optimizer.zero_grad()\n",
    "            output = model(data)\n",
    "            loss = criterion(output, target)\n",
    "            loss.backward()\n",
    "            optimizer.step()\n",
    "            \n",
    "            epoch_loss += loss.item()\n",
    "            num_batches += 1\n",
    "            \n",
    "            # Update current batch bar\n",
    "            batch_pbar.set_postfix({'Batch Loss': f'{loss.item():.4f}'})\n",
    "        \n",
    "        avg_epoch_loss = epoch_loss / num_batches\n",
    "        train_losses.append(avg_epoch_loss)\n",
    "        \n",
    "        accuracy = test_model(model, test_loader, device, verbose=False)\n",
    "        test_accuracies.append(accuracy)\n",
    "        \n",
    "        # Print summary after each epoch\n",
    "        print(f\"Epoch {epoch}/{epochs} - Loss: {avg_epoch_loss:.4f}, Test Acc: {accuracy:.2f}%\")\n",
    "    \n",
    "    return train_losses, test_accuracies"
   ]
  },
  {
   "cell_type": "code",
   "execution_count": 9,
   "metadata": {
    "execution": {
     "iopub.execute_input": "2025-09-28T13:11:11.755527Z",
     "iopub.status.busy": "2025-09-28T13:11:11.755349Z",
     "iopub.status.idle": "2025-09-28T13:11:11.768228Z",
     "shell.execute_reply": "2025-09-28T13:11:11.767598Z",
     "shell.execute_reply.started": "2025-09-28T13:11:11.755513Z"
    },
    "trusted": true
   },
   "outputs": [],
   "source": [
    "def test_model(model, test_loader, device, verbose=True):\n",
    "    \"\"\"Evaluate the model on test data\"\"\"\n",
    "    model.eval()\n",
    "    test_loss = 0\n",
    "    correct = 0\n",
    "    criterion = nn.CrossEntropyLoss(reduction='sum')\n",
    "    \n",
    "    with torch.no_grad():\n",
    "        for data, target in test_loader:\n",
    "            data, target = data.to(device), target.to(device)\n",
    "            output = model(data)\n",
    "            \n",
    "            test_loss += criterion(output, target).item()\n",
    "            pred = output.argmax(dim=1, keepdim=True)\n",
    "            correct += pred.eq(target.view_as(pred)).sum().item()\n",
    "\n",
    "    test_loss /= len(test_loader.dataset)\n",
    "    accuracy = 100. * correct / len(test_loader.dataset)\n",
    "    \n",
    "    if verbose:\n",
    "        print(f'\\nTest set: Average loss: {test_loss:.4f}, Accuracy: {accuracy:.2f}%')\n",
    "    \n",
    "    return accuracy"
   ]
  },
  {
   "cell_type": "code",
   "execution_count": 10,
   "metadata": {
    "execution": {
     "iopub.execute_input": "2025-09-28T13:11:11.860792Z",
     "iopub.status.busy": "2025-09-28T13:11:11.860540Z",
     "iopub.status.idle": "2025-09-28T13:11:11.866390Z",
     "shell.execute_reply": "2025-09-28T13:11:11.865672Z",
     "shell.execute_reply.started": "2025-09-28T13:11:11.860772Z"
    },
    "trusted": true
   },
   "outputs": [],
   "source": [
    "def get_predictions(model, test_loader, device):\n",
    "    \"\"\"Get all predictions and true labels for visualization\"\"\"\n",
    "    model.eval()\n",
    "    all_preds = []\n",
    "    all_targets = []\n",
    "    \n",
    "    with torch.no_grad():\n",
    "        for data, target in test_loader:\n",
    "            data, target = data.to(device), target.to(device)\n",
    "            output = model(data)\n",
    "            pred = output.argmax(dim=1)\n",
    "            \n",
    "            all_preds.extend(pred.cpu().numpy())\n",
    "            all_targets.extend(target.cpu().numpy())\n",
    "    \n",
    "    return np.array(all_preds), np.array(all_targets)"
   ]
  },
  {
   "cell_type": "code",
   "execution_count": 11,
   "metadata": {
    "execution": {
     "iopub.execute_input": "2025-09-28T13:11:11.867666Z",
     "iopub.status.busy": "2025-09-28T13:11:11.867484Z",
     "iopub.status.idle": "2025-09-28T13:11:11.879974Z",
     "shell.execute_reply": "2025-09-28T13:11:11.879304Z",
     "shell.execute_reply.started": "2025-09-28T13:11:11.867652Z"
    },
    "trusted": true
   },
   "outputs": [],
   "source": [
    "def visualize_training_progress(train_losses, test_accuracies):\n",
    "    \"\"\"Visualize training loss and test accuracy over epochs\"\"\"\n",
    "    fig, (ax1, ax2) = plt.subplots(1, 2, figsize=(15, 5))\n",
    "    \n",
    "    # Training Loss\n",
    "    epochs = range(1, len(train_losses) + 1)\n",
    "    ax1.plot(epochs, train_losses, 'b-', marker='o', linewidth=2, markersize=6)\n",
    "    ax1.set_title('Training Loss Over Epochs', fontsize=14, fontweight='bold')\n",
    "    ax1.set_xlabel('Epoch', fontsize=12)\n",
    "    ax1.set_ylabel('Loss', fontsize=12)\n",
    "    ax1.grid(True, alpha=0.3)\n",
    "    ax1.set_facecolor('#f8f9fa')\n",
    "    \n",
    "    # Test Accuracy\n",
    "    ax2.plot(epochs, test_accuracies, 'g-', marker='s', linewidth=2, markersize=6)\n",
    "    ax2.set_title('Test Accuracy Over Epochs', fontsize=14, fontweight='bold')\n",
    "    ax2.set_xlabel('Epoch', fontsize=12)\n",
    "    ax2.set_ylabel('Accuracy (%)', fontsize=12)\n",
    "    ax2.grid(True, alpha=0.3)\n",
    "    ax2.set_facecolor('#f8f9fa')\n",
    "    ax2.set_ylim([90, 100])  # Focus on the relevant accuracy range\n",
    "    \n",
    "    plt.tight_layout()\n",
    "    plt.show()"
   ]
  },
  {
   "cell_type": "code",
   "execution_count": 12,
   "metadata": {
    "execution": {
     "iopub.execute_input": "2025-09-28T13:11:11.880957Z",
     "iopub.status.busy": "2025-09-28T13:11:11.880696Z",
     "iopub.status.idle": "2025-09-28T13:11:11.892704Z",
     "shell.execute_reply": "2025-09-28T13:11:11.892060Z",
     "shell.execute_reply.started": "2025-09-28T13:11:11.880937Z"
    },
    "trusted": true
   },
   "outputs": [],
   "source": [
    "def visualize_confusion_matrix(y_true, y_pred):\n",
    "    \"\"\"Create and display confusion matrix\"\"\"\n",
    "    cm = confusion_matrix(y_true, y_pred)\n",
    "    \n",
    "    plt.figure(figsize=(10, 8))\n",
    "    sns.heatmap(cm, annot=True, fmt='d', cmap='Blues', \n",
    "                xticklabels=range(10), yticklabels=range(10))\n",
    "    plt.title('Confusion Matrix', fontsize=16, fontweight='bold')\n",
    "    plt.xlabel('Predicted Label', fontsize=12)\n",
    "    plt.ylabel('True Label', fontsize=12)\n",
    "    plt.show()\n",
    "    \n",
    "    return cm"
   ]
  },
  {
   "cell_type": "code",
   "execution_count": 13,
   "metadata": {
    "execution": {
     "iopub.execute_input": "2025-09-28T13:11:11.894499Z",
     "iopub.status.busy": "2025-09-28T13:11:11.894132Z",
     "iopub.status.idle": "2025-09-28T13:11:11.904495Z",
     "shell.execute_reply": "2025-09-28T13:11:11.903865Z",
     "shell.execute_reply.started": "2025-09-28T13:11:11.894484Z"
    },
    "trusted": true
   },
   "outputs": [],
   "source": [
    "def print_classification_report(y_true, y_pred):\n",
    "    \"\"\"Print detailed classification metrics\"\"\"\n",
    "    print(\"\\nDetailed Classification Report:\")\n",
    "    print(\"=\" * 50)\n",
    "    print(classification_report(y_true, y_pred, \n",
    "                              target_names=[str(i) for i in range(10)]))"
   ]
  },
  {
   "cell_type": "code",
   "execution_count": 14,
   "metadata": {
    "execution": {
     "iopub.execute_input": "2025-09-28T13:11:11.905280Z",
     "iopub.status.busy": "2025-09-28T13:11:11.905110Z",
     "iopub.status.idle": "2025-09-28T13:11:11.912834Z",
     "shell.execute_reply": "2025-09-28T13:11:11.912169Z",
     "shell.execute_reply.started": "2025-09-28T13:11:11.905267Z"
    },
    "trusted": true
   },
   "outputs": [],
   "source": [
    "def visualize_sample_predictions(model, test_dataset, device, num_samples=10):\n",
    "    \"\"\"Visualize sample predictions vs actual labels\"\"\"\n",
    "    random_indices = random.sample(range(len(test_dataset)), num_samples)\n",
    "    \n",
    "    fig, axes = plt.subplots(2, 5, figsize=(15, 8))\n",
    "    fig.suptitle('Sample Predictions vs Actual Labels', fontsize=16, fontweight='bold')\n",
    "    \n",
    "    for i, idx in enumerate(random_indices):\n",
    "        row = i // 5\n",
    "        col = i % 5\n",
    "        \n",
    "        image, label = test_dataset[idx]\n",
    "        \n",
    "        # Get prediction\n",
    "        model.eval()\n",
    "        with torch.no_grad():\n",
    "            image_tensor = image.unsqueeze(0).to(device)\n",
    "            output = model(image_tensor)\n",
    "            prediction = output.argmax(dim=1).item()\n",
    "        \n",
    "        # Plot\n",
    "        axes[row, col].imshow(image.squeeze().numpy(), cmap='gray')\n",
    "        \n",
    "        # Color coding: green for correct, red for incorrect\n",
    "        color = 'green' if prediction == label else 'red'\n",
    "        axes[row, col].set_title(f'Pred: {prediction}\\nActual: {label}', \n",
    "                                color=color, fontweight='bold')\n",
    "        axes[row, col].axis('off')\n",
    "    \n",
    "    plt.tight_layout()\n",
    "    plt.show()"
   ]
  },
  {
   "cell_type": "code",
   "execution_count": 15,
   "metadata": {
    "execution": {
     "iopub.execute_input": "2025-09-28T13:11:11.913551Z",
     "iopub.status.busy": "2025-09-28T13:11:11.913370Z",
     "iopub.status.idle": "2025-09-28T13:11:11.925621Z",
     "shell.execute_reply": "2025-09-28T13:11:11.925058Z",
     "shell.execute_reply.started": "2025-09-28T13:11:11.913538Z"
    },
    "trusted": true
   },
   "outputs": [],
   "source": [
    "config = {\n",
    "    'batch_size': 64,\n",
    "    'learning_rate': 0.001,\n",
    "    'epochs': 5\n",
    "}\n",
    "\n",
    "data_paths = {\n",
    "    'train_images': 'dataset/train-images-idx3-ubyte/train-images-idx3-ubyte',\n",
    "    'train_labels': 'dataset/train-labels-idx1-ubyte/train-labels-idx1-ubyte',\n",
    "    'test_images': 'dataset/t10k-images-idx3-ubyte/t10k-images-idx3-ubyte',\n",
    "    'test_labels': 'dataset/t10k-labels-idx1-ubyte/t10k-labels-idx1-ubyte'\n",
    "}"
   ]
  },
  {
   "cell_type": "code",
   "execution_count": 16,
   "metadata": {
    "execution": {
     "iopub.execute_input": "2025-09-28T13:11:11.926704Z",
     "iopub.status.busy": "2025-09-28T13:11:11.926439Z",
     "iopub.status.idle": "2025-09-28T13:11:12.038263Z",
     "shell.execute_reply": "2025-09-28T13:11:12.037685Z",
     "shell.execute_reply.started": "2025-09-28T13:11:11.926686Z"
    },
    "trusted": true
   },
   "outputs": [
    {
     "name": "stdout",
     "output_type": "stream",
     "text": [
      "Loading MNIST dataset...\n",
      "Training samples: 60000\n",
      "Test samples: 10000\n"
     ]
    }
   ],
   "source": [
    "print(\"Loading MNIST dataset...\")\n",
    "train_images, train_labels, test_images, test_labels = load_mnist_data(data_paths)"
   ]
  },
  {
   "cell_type": "code",
   "execution_count": 17,
   "metadata": {
    "execution": {
     "iopub.execute_input": "2025-09-28T13:11:12.039135Z",
     "iopub.status.busy": "2025-09-28T13:11:12.038923Z",
     "iopub.status.idle": "2025-09-28T13:11:12.257193Z",
     "shell.execute_reply": "2025-09-28T13:11:12.256538Z",
     "shell.execute_reply.started": "2025-09-28T13:11:12.039118Z"
    },
    "trusted": true
   },
   "outputs": [
    {
     "name": "stdout",
     "output_type": "stream",
     "text": [
      "Preprocessing data...\n"
     ]
    }
   ],
   "source": [
    "print(\"Preprocessing data...\")\n",
    "train_loader, test_loader = preprocess_data(\n",
    "    train_images, train_labels, test_images, test_labels, \n",
    "    batch_size=config['batch_size']\n",
    ")"
   ]
  },
  {
   "cell_type": "code",
   "execution_count": 18,
   "metadata": {
    "execution": {
     "iopub.execute_input": "2025-09-28T13:11:12.257993Z",
     "iopub.status.busy": "2025-09-28T13:11:12.257817Z",
     "iopub.status.idle": "2025-09-28T13:11:12.287180Z",
     "shell.execute_reply": "2025-09-28T13:11:12.286558Z",
     "shell.execute_reply.started": "2025-09-28T13:11:12.257978Z"
    },
    "trusted": true
   },
   "outputs": [],
   "source": [
    "test_dataset = TensorDataset(\n",
    "    torch.tensor(test_images, dtype=torch.float32) / 255.0,\n",
    "    torch.tensor(test_labels, dtype=torch.long)\n",
    ")"
   ]
  },
  {
   "cell_type": "code",
   "execution_count": 19,
   "metadata": {
    "execution": {
     "iopub.execute_input": "2025-09-28T13:11:12.289381Z",
     "iopub.status.busy": "2025-09-28T13:11:12.289170Z",
     "iopub.status.idle": "2025-09-28T13:11:12.294822Z",
     "shell.execute_reply": "2025-09-28T13:11:12.294228Z",
     "shell.execute_reply.started": "2025-09-28T13:11:12.289357Z"
    },
    "trusted": true
   },
   "outputs": [],
   "source": [
    "model = SimpleCNN().to(device)"
   ]
  },
  {
   "cell_type": "code",
   "execution_count": 20,
   "metadata": {
    "execution": {
     "iopub.execute_input": "2025-09-28T13:11:12.295737Z",
     "iopub.status.busy": "2025-09-28T13:11:12.295542Z",
     "iopub.status.idle": "2025-09-28T13:11:30.156523Z",
     "shell.execute_reply": "2025-09-28T13:11:30.155762Z",
     "shell.execute_reply.started": "2025-09-28T13:11:12.295702Z"
    },
    "trusted": true
   },
   "outputs": [
    {
     "name": "stdout",
     "output_type": "stream",
     "text": [
      "Starting training for 5 epochs...\n"
     ]
    },
    {
     "name": "stderr",
     "output_type": "stream",
     "text": [
      "Epoch 1/5: 100%|██████████| 938/938 [00:06<00:00, 137.99batch/s, Batch Loss=0.2127]\n"
     ]
    },
    {
     "name": "stdout",
     "output_type": "stream",
     "text": [
      "Epoch 1/5 - Loss: 0.3022, Test Acc: 97.17%\n"
     ]
    },
    {
     "name": "stderr",
     "output_type": "stream",
     "text": [
      "Epoch 2/5: 100%|██████████| 938/938 [00:06<00:00, 136.37batch/s, Batch Loss=0.0141]\n"
     ]
    },
    {
     "name": "stdout",
     "output_type": "stream",
     "text": [
      "Epoch 2/5 - Loss: 0.0869, Test Acc: 97.94%\n"
     ]
    },
    {
     "name": "stderr",
     "output_type": "stream",
     "text": [
      "Epoch 3/5: 100%|██████████| 938/938 [00:06<00:00, 139.84batch/s, Batch Loss=0.0153]\n"
     ]
    },
    {
     "name": "stdout",
     "output_type": "stream",
     "text": [
      "Epoch 3/5 - Loss: 0.0610, Test Acc: 98.49%\n"
     ]
    },
    {
     "name": "stderr",
     "output_type": "stream",
     "text": [
      "Epoch 4/5: 100%|██████████| 938/938 [00:06<00:00, 137.20batch/s, Batch Loss=0.1273]\n"
     ]
    },
    {
     "name": "stdout",
     "output_type": "stream",
     "text": [
      "Epoch 4/5 - Loss: 0.0479, Test Acc: 98.60%\n"
     ]
    },
    {
     "name": "stderr",
     "output_type": "stream",
     "text": [
      "Epoch 5/5: 100%|██████████| 938/938 [00:09<00:00, 101.39batch/s, Batch Loss=0.0143]\n"
     ]
    },
    {
     "name": "stdout",
     "output_type": "stream",
     "text": [
      "Epoch 5/5 - Loss: 0.0401, Test Acc: 98.81%\n"
     ]
    }
   ],
   "source": [
    "print(f\"Starting training for {config['epochs']} epochs...\")\n",
    "train_losses, test_accuracies = train_model(\n",
    "    model, train_loader, test_loader, device, \n",
    "    learning_rate=config['learning_rate'], \n",
    "    epochs=config['epochs']\n",
    ")"
   ]
  },
  {
   "cell_type": "code",
   "execution_count": 21,
   "metadata": {
    "execution": {
     "iopub.execute_input": "2025-09-28T13:11:30.157660Z",
     "iopub.status.busy": "2025-09-28T13:11:30.157394Z",
     "iopub.status.idle": "2025-09-28T13:11:30.488745Z",
     "shell.execute_reply": "2025-09-28T13:11:30.487888Z",
     "shell.execute_reply.started": "2025-09-28T13:11:30.157632Z"
    },
    "trusted": true
   },
   "outputs": [
    {
     "name": "stdout",
     "output_type": "stream",
     "text": [
      "Visualizations...\n"
     ]
    },
    {
     "data": {
      "image/png": "[encoded data removed]",
      "text/plain": [
       "<Figure size 1500x500 with 2 Axes>"
      ]
     },
     "metadata": {},
     "output_type": "display_data"
    }
   ],
   "source": [
    "print(\"Visualizations...\")\n",
    "visualize_training_progress(train_losses, test_accuracies)"
   ]
  },
  {
   "cell_type": "code",
   "execution_count": 22,
   "metadata": {
    "execution": {
     "iopub.execute_input": "2025-09-28T13:11:30.489680Z",
     "iopub.status.busy": "2025-09-28T13:11:30.489430Z",
     "iopub.status.idle": "2025-09-28T13:11:30.618406Z",
     "shell.execute_reply": "2025-09-28T13:11:30.617573Z",
     "shell.execute_reply.started": "2025-09-28T13:11:30.489653Z"
    },
    "trusted": true
   },
   "outputs": [
    {
     "name": "stdout",
     "output_type": "stream",
     "text": [
      "\n",
      "Test set: Average loss: 0.0384, Accuracy: 98.81%\n"
     ]
    }
   ],
   "source": [
    "final_accuracy = test_model(model, test_loader, device)"
   ]
  },
  {
   "cell_type": "code",
   "execution_count": 23,
   "metadata": {
    "execution": {
     "iopub.execute_input": "2025-09-28T13:11:30.619397Z",
     "iopub.status.busy": "2025-09-28T13:11:30.619166Z",
     "iopub.status.idle": "2025-09-28T13:11:30.745408Z",
     "shell.execute_reply": "2025-09-28T13:11:30.744679Z",
     "shell.execute_reply.started": "2025-09-28T13:11:30.619371Z"
    },
    "trusted": true
   },
   "outputs": [],
   "source": [
    "y_pred, y_true = get_predictions(model, test_loader, device)"
   ]
  },
  {
   "cell_type": "code",
   "execution_count": 24,
   "metadata": {
    "execution": {
     "iopub.execute_input": "2025-09-28T13:11:30.746419Z",
     "iopub.status.busy": "2025-09-28T13:11:30.746181Z",
     "iopub.status.idle": "2025-09-28T13:11:31.077254Z",
     "shell.execute_reply": "2025-09-28T13:11:31.076412Z",
     "shell.execute_reply.started": "2025-09-28T13:11:30.746390Z"
    },
    "trusted": true
   },
   "outputs": [
    {
     "name": "stdout",
     "output_type": "stream",
     "text": [
      "Confusion matrix...\n"
     ]
    },
    {
     "data": {
      "image/png": "[encoded data removed]",
      "text/plain": [
       "<Figure size 1000x800 with 2 Axes>"
      ]
     },
     "metadata": {},
     "output_type": "display_data"
    },
    {
     "data": {
      "text/plain": [
       "array([[ 975,    0,    1,    0,    1,    0,    0,    2,    1,    0],\n",
       "       [   0, 1127,    2,    1,    0,    1,    0,    1,    3,    0],\n",
       "       [   0,    0, 1027,    0,    0,    0,    0,    3,    2,    0],\n",
       "       [   1,    0,    2,  998,    0,    4,    0,    3,    2,    0],\n",
       "       [   0,    0,    1,    0,  973,    1,    1,    1,    1,    4],\n",
       "       [   2,    0,    0,    7,    0,  880,    1,    1,    1,    0],\n",
       "       [   5,    2,    0,    1,    2,    4,  941,    0,    3,    0],\n",
       "       [   0,    0,    3,    2,    0,    0,    0, 1021,    2,    0],\n",
       "       [   4,    0,    1,    1,    0,    1,    1,    1,  963,    2],\n",
       "       [   4,    3,    1,    0,    7,    8,    0,    6,    4,  976]])"
      ]
     },
     "execution_count": 24,
     "metadata": {},
     "output_type": "execute_result"
    }
   ],
   "source": [
    "print(\"Confusion matrix...\")\n",
    "visualize_confusion_matrix(y_true, y_pred)"
   ]
  },
  {
   "cell_type": "code",
   "execution_count": 25,
   "metadata": {
    "execution": {
     "iopub.execute_input": "2025-09-28T13:11:31.078542Z",
     "iopub.status.busy": "2025-09-28T13:11:31.078330Z",
     "iopub.status.idle": "2025-09-28T13:11:31.095254Z",
     "shell.execute_reply": "2025-09-28T13:11:31.094565Z",
     "shell.execute_reply.started": "2025-09-28T13:11:31.078525Z"
    },
    "trusted": true
   },
   "outputs": [
    {
     "name": "stdout",
     "output_type": "stream",
     "text": [
      "\n",
      "Detailed Classification Report:\n",
      "==================================================\n",
      "              precision    recall  f1-score   support\n",
      "\n",
      "           0       0.98      0.99      0.99       980\n",
      "           1       1.00      0.99      0.99      1135\n",
      "           2       0.99      1.00      0.99      1032\n",
      "           3       0.99      0.99      0.99      1010\n",
      "           4       0.99      0.99      0.99       982\n",
      "           5       0.98      0.99      0.98       892\n",
      "           6       1.00      0.98      0.99       958\n",
      "           7       0.98      0.99      0.99      1028\n",
      "           8       0.98      0.99      0.98       974\n",
      "           9       0.99      0.97      0.98      1009\n",
      "\n",
      "    accuracy                           0.99     10000\n",
      "   macro avg       0.99      0.99      0.99     10000\n",
      "weighted avg       0.99      0.99      0.99     10000\n",
      "\n"
     ]
    }
   ],
   "source": [
    "print_classification_report(y_true, y_pred)"
   ]
  },
  {
   "cell_type": "code",
   "execution_count": 26,
   "metadata": {
    "execution": {
     "iopub.execute_input": "2025-09-28T13:11:31.096065Z",
     "iopub.status.busy": "2025-09-28T13:11:31.095888Z",
     "iopub.status.idle": "2025-09-28T13:11:31.679273Z",
     "shell.execute_reply": "2025-09-28T13:11:31.678547Z",
     "shell.execute_reply.started": "2025-09-28T13:11:31.096050Z"
    },
    "trusted": true
   },
   "outputs": [
    {
     "name": "stdout",
     "output_type": "stream",
     "text": [
      "Sample test set predictions...\n"
     ]
    },
    {
     "data": {
      "image/png": "[encoded data removed]",
      "text/plain": [
       "<Figure size 1500x800 with 10 Axes>"
      ]
     },
     "metadata": {},
     "output_type": "display_data"
    }
   ],
   "source": [
    "print(\"Sample test set predictions...\")\n",
    "visualize_sample_predictions(model, test_dataset, device)"
   ]
  }
 ],
 "metadata": {
  "kaggle": {
   "accelerator": "nvidiaTeslaT4",
   "dataSources": [
    {
     "datasetId": 102285,
     "sourceId": 242592,
     "sourceType": "datasetVersion"
    }
   ],
   "dockerImageVersionId": 31090,
   "isGpuEnabled": true,
   "isInternetEnabled": true,
   "language": "python",
   "sourceType": "notebook"
  },
  "kernelspec": {
   "display_name": "Python 3",
   "language": "python",
   "name": "python3"
  },
  "language_info": {
   "codemirror_mode": {
    "name": "ipython",
    "version": 3
   },
   "file_extension": ".py",
   "mimetype": "text/x-python",
   "name": "python",
   "nbconvert_exporter": "python",
   "pygments_lexer": "ipython3",
   "version": "3.10.12"
  }
 },
 "nbformat": 4,
 "nbformat_minor": 4
}
